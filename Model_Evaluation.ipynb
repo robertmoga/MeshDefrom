{
 "cells": [
  {
   "cell_type": "code",
   "execution_count": 13,
   "metadata": {},
   "outputs": [],
   "source": [
    "from neuralnet_pytorch.metrics import chamfer_loss\n",
    "import numpy as np\n",
    "import torch\n",
    "from eval_dataset import RightVentricleDataset\n",
    "import torch.nn.functional as f\n",
    "from model import P2M_Model\n",
    "from dice import compute_meandice, DiceLoss\n",
    "import ipyvolume as ipv\n",
    "import matplotlib.pyplot as plt\n",
    "import cv2"
   ]
  },
  {
   "cell_type": "markdown",
   "metadata": {},
   "source": [
    "## Predict"
   ]
  },
  {
   "cell_type": "code",
   "execution_count": 15,
   "metadata": {},
   "outputs": [],
   "source": [
    "MODEL_PATH = \"D:\\\\_Dissertation\\\\gcnn_rv\\\\eval\\\\NewEdgeLoss\\\\network_44.pth\""
   ]
  },
  {
   "cell_type": "code",
   "execution_count": 16,
   "metadata": {},
   "outputs": [],
   "source": [
    "initial_mesh = np.load('data/mean_rv_dict.npy', allow_pickle=True).item()\n",
    "tee_mean = np.load(\"data/my_new_init.npy\", allow_pickle=True)\n",
    "initial_mesh[\"points\"] = tee_mean\n",
    "triangles = initial_mesh[\"triangles\"]\n",
    "use_cuda = torch.cuda.is_available()\n",
    "# use_cuda = False"
   ]
  },
  {
   "cell_type": "code",
   "execution_count": 17,
   "metadata": {},
   "outputs": [
    {
     "name": "stdout",
     "output_type": "stream",
     "text": [
      "D:\\_Dissertation\\gcnn_rv_for_notebook\n"
     ]
    }
   ],
   "source": [
    "eval_dataset = RightVentricleDataset(dataset_list_path=\"..//data\")\n",
    "eval_dataloader = torch.utils.data.DataLoader(eval_dataset, batch_size=1, shuffle=True,num_workers=1)"
   ]
  },
  {
   "cell_type": "code",
   "execution_count": 18,
   "metadata": {},
   "outputs": [
    {
     "name": "stdout",
     "output_type": "stream",
     "text": [
      "Loading UNet from  D:\\_Dissertation\\gcnn_rv_for_notebook\\model\\model_178.pth\n"
     ]
    }
   ],
   "source": [
    "network = P2M_Model(227, 192, 3, initial_mesh['supports'], use_cuda)\n",
    "network.load_state_dict(torch.load(MODEL_PATH))\n",
    "if use_cuda:\n",
    "    network.cuda()"
   ]
  },
  {
   "cell_type": "code",
   "execution_count": 33,
   "metadata": {},
   "outputs": [],
   "source": [
    "chamfer_dist, mse_dist, dice = [], [], [] \n",
    "pred_points, gt_points = [], []\n",
    "pred_img, gt_img, initial_img = [], [], []"
   ]
  },
  {
   "cell_type": "code",
   "execution_count": 34,
   "metadata": {},
   "outputs": [],
   "source": [
    "for i, data in enumerate(eval_dataloader, 0):\n",
    "    img, _, pts, normal, _, _ = data\n",
    "    init_pts = torch.tensor(initial_mesh['points'], dtype=torch.float32)\n",
    "    if use_cuda:\n",
    "        img = img.cuda()\n",
    "        init_pts = init_pts.float().cuda()\n",
    "        \n",
    "    pred_pts_list, pred_feats_list, pred_img = network(img, init_pts)\n",
    "    initial_img.append(img.detach().cpu())\n",
    "    pred_points.append(pred_pts_list[0].detach().cpu())\n",
    "    gt_points.append(pts.detach().cpu())\n",
    "    \n",
    "del data\n",
    "del init_pts\n",
    "del img\n",
    "del pts\n",
    "del normal\n",
    "del _\n",
    "torch.cuda.empty_cache()"
   ]
  },
  {
   "cell_type": "code",
   "execution_count": 21,
   "metadata": {},
   "outputs": [],
   "source": [
    "chamfer_sum = 0\n",
    "mse_sum = 0\n",
    "for i in range(len(pred_points)):\n",
    "    chamfer_sum += chamfer_loss(pred_points[0].unsqueeze(0), gt_points[0])\n",
    "    mse_sum += f.mse_loss(pred_points[0].unsqueeze(0), gt_points[0])"
   ]
  },
  {
   "cell_type": "code",
   "execution_count": 22,
   "metadata": {},
   "outputs": [],
   "source": [
    "chamfer_measure = chamfer_sum/len(eval_dataloader)\n",
    "mse_measure = mse_sum/len(eval_dataloader)"
   ]
  },
  {
   "cell_type": "markdown",
   "metadata": {},
   "source": [
    "## Quantitative evaluation\n"
   ]
  },
  {
   "cell_type": "markdown",
   "metadata": {},
   "source": [
    "#### Chamfer score"
   ]
  },
  {
   "cell_type": "code",
   "execution_count": 23,
   "metadata": {},
   "outputs": [
    {
     "data": {
      "text/plain": [
       "tensor(0.4380)"
      ]
     },
     "execution_count": 23,
     "metadata": {},
     "output_type": "execute_result"
    }
   ],
   "source": [
    "chamfer_measure"
   ]
  },
  {
   "cell_type": "markdown",
   "metadata": {},
   "source": [
    "#### MSE Score"
   ]
  },
  {
   "cell_type": "code",
   "execution_count": 24,
   "metadata": {
    "scrolled": true
   },
   "outputs": [
    {
     "data": {
      "text/plain": [
       "tensor(0.0005)"
      ]
     },
     "execution_count": 24,
     "metadata": {},
     "output_type": "execute_result"
    }
   ],
   "source": [
    "mse_measure"
   ]
  },
  {
   "cell_type": "markdown",
   "metadata": {},
   "source": [
    "## Qualitative evaluation\n"
   ]
  },
  {
   "cell_type": "markdown",
   "metadata": {},
   "source": [
    "#### Initial Mesh"
   ]
  },
  {
   "cell_type": "code",
   "execution_count": 25,
   "metadata": {
    "scrolled": true
   },
   "outputs": [
    {
     "data": {
      "text/plain": [
       "<matplotlib.image.AxesImage at 0x26182e91f60>"
      ]
     },
     "execution_count": 25,
     "metadata": {},
     "output_type": "execute_result"
    },
    {
     "data": {
      "image/png": "[encoded data removed]",
      "text/plain": [
       "<Figure size 432x288 with 1 Axes>"
      ]
     },
     "metadata": {
      "needs_background": "light"
     },
     "output_type": "display_data"
    }
   ],
   "source": [
    "# read initial image \n",
    "img = cv2.imread('initial_mesh.png', 1)\n",
    "\n",
    "# img = data_image\n",
    "plt.imshow(img)"
   ]
  },
  {
   "cell_type": "markdown",
   "metadata": {},
   "source": [
    "#### Reconstructed mesh"
   ]
  },
  {
   "cell_type": "code",
   "execution_count": 26,
   "metadata": {},
   "outputs": [
    {
     "data": {
      "text/plain": [
       "<matplotlib.image.AxesImage at 0x261de9a72e8>"
      ]
     },
     "execution_count": 26,
     "metadata": {},
     "output_type": "execute_result"
    },
    {
     "data": {
      "image/png": "[encoded data removed]",
      "text/plain": [
       "<Figure size 432x288 with 1 Axes>"
      ]
     },
     "metadata": {
      "needs_background": "light"
     },
     "output_type": "display_data"
    }
   ],
   "source": [
    "# read initial image \n",
    "img = cv2.imread('generated_mesh.png', 1)\n",
    "\n",
    "# img = data_image\n",
    "plt.imshow(img)"
   ]
  },
  {
   "cell_type": "code",
   "execution_count": 31,
   "metadata": {},
   "outputs": [],
   "source": [
    "index = 0"
   ]
  },
  {
   "cell_type": "code",
   "execution_count": 32,
   "metadata": {
    "scrolled": true
   },
   "outputs": [
    {
     "data": {
      "application/vnd.jupyter.widget-view+json": {
       "model_id": "0f14d54e22654d88957fd0838a26995b",
       "version_major": 2,
       "version_minor": 0
      },
      "text/plain": [
       "VBox(children=(Figure(camera=PerspectiveCamera(fov=46.0, position=(0.0, 0.0, 2.0), quaternion=(0.0, 0.0, 0.0, …"
      ]
     },
     "metadata": {},
     "output_type": "display_data"
    }
   ],
   "source": [
    "x = pred_points[index].cpu().data.numpy()[:, 0] \n",
    "y = pred_points[index].cpu().data.numpy()[:, 1] \n",
    "z = pred_points[index].cpu().data.numpy()[:, 2] \n",
    "\n",
    "ipv.figure()\n",
    "#     ipv.style.axes_off()\n",
    "#     ipv.style.box_off()\n",
    "ipv.plot_trisurf(x, y, z, triangles=triangles, color='orange')\n",
    "ipv.scatter(x,y,z, marker='sphere', color='blue', size=0.7)\n",
    "ipv.show()"
   ]
  },
  {
   "cell_type": "markdown",
   "metadata": {},
   "source": [
    "#### Input Image"
   ]
  },
  {
   "cell_type": "code",
   "execution_count": 35,
   "metadata": {},
   "outputs": [],
   "source": [
    "init_img = initial_img[index].data.numpy().squeeze()"
   ]
  }
 ],
 "metadata": {
  "kernelspec": {
   "display_name": "Python 3",
   "language": "python",
   "name": "python3"
  },
  "language_info": {
   "codemirror_mode": {
    "name": "ipython",
    "version": 3
   },
   "file_extension": ".py",
   "mimetype": "text/x-python",
   "name": "python",
   "nbconvert_exporter": "python",
   "pygments_lexer": "ipython3",
   "version": "3.6.8"
  }
 },
 "nbformat": 4,
 "nbformat_minor": 4
}
